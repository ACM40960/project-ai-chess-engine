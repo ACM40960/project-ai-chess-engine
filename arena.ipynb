{
 "cells": [
  {
   "cell_type": "code",
   "execution_count": 1,
   "id": "25b22aa3",
   "metadata": {},
   "outputs": [
    {
     "name": "stderr",
     "output_type": "stream",
     "text": [
      "/Users/arjunvijayanup/Documents/3rd Trimester/Project in Maths Modelling/Chess/project-chess-final/project-ai-chess-engine/chess_env/lib/python3.12/site-packages/tqdm/auto.py:21: TqdmWarning: IProgress not found. Please update jupyter and ipywidgets. See https://ipywidgets.readthedocs.io/en/stable/user_install.html\n",
      "  from .autonotebook import tqdm as notebook_tqdm\n"
     ]
    }
   ],
   "source": [
    "import random\n",
    "import time\n",
    "import math\n",
    "import csv\n",
    "import os\n",
    "import chessAI\n",
    "from pathlib import Path\n",
    "from time import monotonic\n",
    "from multiprocessing import Process, Queue\n",
    "from chessEngine import GameState\n",
    "from chessAI import get_best_move, run_ai_loop\n",
    "from stockfishHandler import StockfishPlayer"
   ]
  },
  {
   "cell_type": "markdown",
   "id": "a0b1b0a5",
   "metadata": {},
   "source": [
    "# Deterministic check for move search"
   ]
  },
  {
   "cell_type": "code",
   "execution_count": 2,
   "id": "44264535",
   "metadata": {},
   "outputs": [],
   "source": [
    "def best_move_once():\n",
    "    gs = GameState()\n",
    "    legal = gs.get_valid_moves()\n",
    "    random.seed(12345)  # stabilize any random tie-breakers\n",
    "    mv = get_best_move(gs, legal)\n",
    "    try:\n",
    "        return mv.get_chess_notation()\n",
    "    except Exception:\n",
    "        return str(mv)"
   ]
  },
  {
   "cell_type": "code",
   "execution_count": 3,
   "id": "2c68bf24",
   "metadata": {},
   "outputs": [
    {
     "name": "stdout",
     "output_type": "stream",
     "text": [
      "Run1: e2e4\n",
      "Run2: e2e4\n",
      "DETERMINISTIC\n"
     ]
    }
   ],
   "source": [
    "a = best_move_once()\n",
    "b = best_move_once()\n",
    "print(\"Run1:\", a)\n",
    "print(\"Run2:\", b)\n",
    "print(\"DETERMINISTIC\" if a == b else \"NON-DETERMINISTIC\")"
   ]
  },
  {
   "cell_type": "markdown",
   "id": "6ab48f30",
   "metadata": {},
   "source": [
    "# Move generation Correctness & Speed"
   ]
  },
  {
   "cell_type": "code",
   "execution_count": 4,
   "id": "18726f8b",
   "metadata": {},
   "outputs": [],
   "source": [
    "def perft(gs, depth):\n",
    "    if depth == 0:\n",
    "        return 1\n",
    "    nodes = 0\n",
    "    for m in gs.get_valid_moves():\n",
    "        gs.make_move(m)\n",
    "        nodes += perft(gs, depth - 1)\n",
    "        gs.undo_move()\n",
    "    return nodes"
   ]
  },
  {
   "cell_type": "code",
   "execution_count": 5,
   "id": "77b7f78d",
   "metadata": {},
   "outputs": [],
   "source": [
    "def divide(gs, depth):\n",
    "    total = 0\n",
    "    for m in gs.get_valid_moves():\n",
    "        gs.make_move(m)\n",
    "        c = perft(gs, depth - 1)\n",
    "        gs.undo_move()\n",
    "        name = getattr(m, \"get_chess_notation\", lambda: str(m))()\n",
    "        print(f\"{name:<8} {c}\")\n",
    "        total += c\n",
    "    print(f\"Total: {total}\")\n",
    "    return total"
   ]
  },
  {
   "cell_type": "code",
   "execution_count": 6,
   "id": "a9f8aa2c",
   "metadata": {},
   "outputs": [
    {
     "name": "stdout",
     "output_type": "stream",
     "text": [
      "depth 1: nodes=20  PASS  time=0.002s  nps=11305\n",
      "depth 2: nodes=400  PASS  time=0.012s  nps=34140\n",
      "depth 3: nodes=8902  PASS  time=0.077s  nps=115421\n",
      "depth 4: nodes=197281  PASS  time=1.663s  nps=118627\n"
     ]
    }
   ],
   "source": [
    "gs = GameState()\n",
    "tests = [(1, 20), (2, 400), (3, 8902), (4, 197281)]\n",
    "for d, expected in tests:\n",
    "    t0 = time.time()\n",
    "    n = perft(gs, d)\n",
    "    dt = time.time() - t0\n",
    "    status = \"PASS\" if n == expected else f\"FAIL (expected {expected})\"\n",
    "    print(f\"depth {d}: nodes={n}  {status}  time={dt:.3f}s  nps={int(n/max(dt,1e-6))}\")"
   ]
  },
  {
   "cell_type": "markdown",
   "id": "73000a8f",
   "metadata": {},
   "source": [
    "# Stockfish vs Our AI engine (ELO & Match Stats)"
   ]
  },
  {
   "cell_type": "markdown",
   "id": "5bac6ded",
   "metadata": {},
   "source": [
    "-   N = wins + draws + losses.\n",
    "-   Score S = (wins + 0.5*draws) / N.\n",
    "-   Rating difference $\\Delta$ vs that Stockfish config (depth/time) using the Elo logistic model:\n",
    "\n",
    "$$\n",
    "\\Delta = -400 \\log_{10}\\!\\left(\\frac{1}{S} - 1\\right)\n",
    "$$"
   ]
  },
  {
   "cell_type": "code",
   "execution_count": 22,
   "id": "2a675a6c",
   "metadata": {},
   "outputs": [],
   "source": [
    "NUM_GAMES = 1\n",
    "OUR_DEPTH = 5\n",
    "STOCKFISH_DEPTH = 3\n",
    "MAX_PLIES = 300\n",
    "AI_TIMEOUT_SEC = 90\n",
    "PRINT_PER_MOVE = False\n",
    "\n",
    "chessAI.MAX_DEPTH = OUR_DEPTH\n",
    "\n",
    "LOG_TO_CSV = True\n",
    "CSV_PATH = f\"arena_results_sf{STOCKFISH_DEPTH}_ai{OUR_DEPTH}.csv\""
   ]
  },
  {
   "cell_type": "code",
   "execution_count": 8,
   "id": "9856d473",
   "metadata": {},
   "outputs": [],
   "source": [
    "def _ensure_csv_header(path):\n",
    "    need_header = not os.path.exists(path) or os.path.getsize(path) == 0\n",
    "    if need_header:\n",
    "        with open(path, \"w\", newline=\"\") as f:\n",
    "            w = csv.writer(f)\n",
    "            w.writerow([\n",
    "                \"game_index\", \"ai_color\", \"result\",\n",
    "                \"plies\", \"sf_depth\", \"ai_depth\",\n",
    "                \"ai_nodes\", \"ai_time_ms\", \"ai_nps\",\n",
    "                \"tt_probes\", \"tt_hits\", \"tt_hit_rate\",\n",
    "                \"tt_stores\", \"beta_cutoffs\", \"first_move_cutoffs\",\n",
    "                \"avg_branch\", \"killer_uses\", \"history_uses\",\n",
    "                \"ai_moves\", \"sf_time_ms\", \"game_wall_ms\"\n",
    "            ])\n",
    "\n",
    "def _append_csv_row(path, row):\n",
    "    with open(path, \"a\", newline=\"\") as f:\n",
    "        w = csv.writer(f)\n",
    "        w.writerow(row)\n",
    "\n",
    "def _log_game_csv(path, game_idx, result, ai_is_white, agg):\n",
    "    row = [\n",
    "        game_idx + 1,\n",
    "        \"white\" if ai_is_white else \"black\",\n",
    "        result,\n",
    "        OUR_DEPTH,\n",
    "        STOCKFISH_DEPTH,\n",
    "        agg[\"plies\"],\n",
    "        agg[\"ai_moves\"],\n",
    "        f\"{agg['ai_time_ms']:.1f}\",\n",
    "        f\"{(agg['ai_time_ms']/max(1, agg['ai_moves'])):.1f}\",\n",
    "    ]\n",
    "    with open(path, \"a\", newline=\"\") as f:\n",
    "        csv.writer(f).writerow(row)"
   ]
  },
  {
   "cell_type": "code",
   "execution_count": 9,
   "id": "3cc28850",
   "metadata": {},
   "outputs": [],
   "source": [
    "def _empty_agg():\n",
    "    return {\n",
    "        \"nodes\": 0,\n",
    "        \"ms\": 0.0,\n",
    "        \"sf_ms\": 0.0,\n",
    "        \"tt_probes\": 0,\n",
    "        \"tt_hits\": 0,\n",
    "        \"tt_stores\": 0,\n",
    "        \"beta_cutoffs\": 0,\n",
    "        \"first_move_cutoffs\": 0,\n",
    "        \"killer_uses\": 0,\n",
    "        \"history_uses\": 0,\n",
    "        \"branch_sum\": 0,\n",
    "        \"branch_samples\": 0,\n",
    "        \"plies\": 0,   # total half-moves in the game\n",
    "        \"ai_moves\": 0 # number of AI root searches performed\n",
    "    }\n",
    "\n",
    "\n",
    "def _accumulate(agg, stats):\n",
    "    \"\"\"Add a single SearchStats into the aggregate dict.\"\"\"\n",
    "    agg[\"nodes\"] += getattr(stats, \"nodes\")\n",
    "    agg[\"ms\"] += getattr(stats, \"ms\")\n",
    "    agg[\"tt_probes\"] += getattr(stats, \"tt_probes\")\n",
    "    agg[\"tt_hits\"] += getattr(stats, \"tt_hits\")\n",
    "    agg[\"tt_stores\"] += getattr(stats, \"tt_stores\")\n",
    "    agg[\"beta_cutoffs\"] += getattr(stats, \"beta_cutoffs\")\n",
    "    agg[\"first_move_cutoffs\"] += getattr(stats, \"first_move_cutoffs\")\n",
    "    agg[\"killer_uses\"] += getattr(stats, \"killer_uses\")\n",
    "    agg[\"history_uses\"] += getattr(stats, \"history_uses\")\n",
    "    agg[\"branch_sum\"] += getattr(stats, \"branch_sum\")\n",
    "    agg[\"branch_samples\"] += getattr(stats, \"branch_samples\")\n",
    "    agg[\"ai_moves\"] += 1\n",
    "\n",
    "\n",
    "def _format_agg(agg):\n",
    "    \"\"\"Human-readable one-liner for game stats.\"\"\"\n",
    "    nodes = agg[\"nodes\"]\n",
    "    ms = agg[\"ms\"]\n",
    "    sf_ms = agg.get(\"sf_ms\", 0.0)\n",
    "    nps = (nodes / (ms / 1000.0)) if ms > 1e-9 else 0.0\n",
    "    ttp = agg[\"tt_probes\"]\n",
    "    tth = agg[\"tt_hits\"]\n",
    "    tt_hit_rate = (100.0 * tth / ttp) if ttp else 0.0\n",
    "    avg_branch = (agg[\"branch_sum\"] / agg[\"branch_samples\"]) if agg[\"branch_samples\"] else 0.0\n",
    "    return (\n",
    "        f\"nodes={nodes:,}, time={ms:.1f} ms, NPS={nps:,.0f}, \"\n",
    "        f\"TT hit={tt_hit_rate:.1f}% ({tth}/{ttp}), stores={agg['tt_stores']}, \"\n",
    "        f\"beta-cutoffs={agg['beta_cutoffs']}, first-move-cutoffs={agg['first_move_cutoffs']}, \"\n",
    "        f\"avg-branch={avg_branch:.2f}, killer-uses={agg['killer_uses']}, \"\n",
    "        f\"history-uses={agg['history_uses']}, AI-moves={agg['ai_moves']}, plies={agg['plies']}, \"\n",
    "        f\"SFtime={sf_ms:.1f} ms\"\n",
    "    )\n"
   ]
  },
  {
   "cell_type": "code",
   "execution_count": null,
   "id": "6f791a55",
   "metadata": {},
   "outputs": [],
   "source": [
    "def start_ai_worker(depth):\n",
    "    iq, oq = Queue(), Queue()\n",
    "    print(f\"[child] chessAI.MAX_DEPTH set to {depth}\")\n",
    "    p = Process(target=chessAI.run_ai_loop, args=(iq, oq, depth), daemon=True)\n",
    "    p.start()\n",
    "    return p, iq, oq\n",
    "\n",
    "\n",
    "def stop_ai_worker(proc):\n",
    "    if proc and proc.is_alive():\n",
    "        proc.terminate()\n",
    "        proc.join(timeout=2)"
   ]
  },
  {
   "cell_type": "code",
   "execution_count": 11,
   "id": "8cb5157b",
   "metadata": {},
   "outputs": [],
   "source": [
    "def get_ai_move(worker_in, worker_out, gs, legal_moves):\n",
    "    pos_key = len(gs.moves_log)\n",
    "    worker_in.put((pos_key, gs, legal_moves))\n",
    "    deadline = monotonic() + AI_TIMEOUT_SEC\n",
    "    while monotonic() < deadline:\n",
    "        if not worker_out.empty():\n",
    "            pos_key_ret, mv, stats = worker_out.get()\n",
    "            if pos_key_ret == len(gs.moves_log):\n",
    "                return mv, stats\n",
    "    return None, None # timeout"
   ]
  },
  {
   "cell_type": "code",
   "execution_count": 12,
   "id": "04259786",
   "metadata": {},
   "outputs": [],
   "source": [
    "def play_one_game(sf, worker_in, worker_out, ai_is_white=True):\n",
    "    gs = GameState()\n",
    "    legal = gs.get_valid_moves()\n",
    "    plies = 0\n",
    "    agg = _empty_agg()\n",
    "\n",
    "    while True:\n",
    "        # terminal?\n",
    "        if not legal: # no legal moves left\n",
    "            if gs.is_stalemate:\n",
    "                agg[\"plies\"] = plies\n",
    "                return \"draw\", agg\n",
    "            winner_is_white = not gs.white_to_move  # side NOT to move was just checkmated\n",
    "            agg[\"plies\"] = plies\n",
    "            if winner_is_white == ai_is_white:\n",
    "                return \"ai\", agg\n",
    "            else:\n",
    "                return \"stockfish\", agg \n",
    "            #return \"ai\", agg if winner_is_white == ai_is_white else \"stockfish\", agg\n",
    "\n",
    "        if getattr(gs, \"is_threefold_repetition\", False) or getattr(gs, \"is_fifty_move_draw\", False) or getattr(gs, \"is_insufficient_material\", False):\n",
    "            agg[\"plies\"] = plies\n",
    "            return \"draw\", agg\n",
    "        \n",
    "        if plies >= MAX_PLIES:\n",
    "            agg[\"plies\"] = plies\n",
    "            return \"draw\", agg\n",
    "\n",
    "        ai_turn = (gs.white_to_move and ai_is_white) or ((not gs.white_to_move) and (not ai_is_white))\n",
    "\n",
    "        if ai_turn:\n",
    "            mv, stats = get_ai_move(worker_in, worker_out, gs, legal)\n",
    "            print(f\"[AI] requested depth = {stats.req_depth}, max ply seen = {stats.max_ply_seen}\")\n",
    "            if stats.max_ply_seen < stats.req_depth:\n",
    "                print(f\"[warn] max_ply_seen {stats.max_ply_seen} < requested {stats.req_depth} (heavy pruning or early terminal?)\")\n",
    "            \n",
    "            if mv is None:  # timeout / fail-safe → resign\n",
    "                agg[\"plies\"] = plies\n",
    "                return \"stockfish\", agg\n",
    "            _accumulate(agg, stats)\n",
    "            if PRINT_PER_MOVE:\n",
    "                print(\"AI move statistics:\", _format_agg({**agg, \"plies\": plies}) )\n",
    "        else:\n",
    "            mv = sf.get_best_move(gs)\n",
    "            t_sf0 = monotonic()\n",
    "            agg[\"sf_ms\"] += (monotonic()-t_sf0) * 1000.0 \n",
    "\n",
    "        # make move (promotion default 'Q' is fine in your engine)\n",
    "        gs.make_move(mv)\n",
    "        legal = gs.get_valid_moves()\n",
    "        plies += 1\n"
   ]
  },
  {
   "cell_type": "code",
   "execution_count": 13,
   "id": "7bee75e9",
   "metadata": {},
   "outputs": [],
   "source": [
    "def elo_diff_from_score(score):\n",
    "    score = min(max(score, 1e-6), 1-1e-6)\n",
    "    return -400.0 * math.log10(1/score - 1)"
   ]
  },
  {
   "cell_type": "code",
   "execution_count": null,
   "id": "fbe18372",
   "metadata": {},
   "outputs": [
    {
     "name": "stdout",
     "output_type": "stream",
     "text": [
      "[child] chessAI.MAX_DEPTH set to 5\n",
      "[chessAI] Using MAX_DEPTH=5\n",
      "[AI] requested depth = 0, max ply seen = 0\n",
      "[AI] requested depth = 0, max ply seen = 0\n",
      "[AI] requested depth = 0, max ply seen = 0\n",
      "[AI] requested depth = 5, max ply seen = 5\n",
      "[AI] requested depth = 5, max ply seen = 5\n",
      "[AI] requested depth = 5, max ply seen = 5\n",
      "[AI] requested depth = 5, max ply seen = 5\n",
      "[AI] requested depth = 5, max ply seen = 5\n",
      "[AI] requested depth = 5, max ply seen = 5\n",
      "[AI] requested depth = 5, max ply seen = 5\n",
      "[AI] requested depth = 5, max ply seen = 5\n",
      "[AI] requested depth = 5, max ply seen = 5\n"
     ]
    }
   ],
   "source": [
    "sf = StockfishPlayer(base_dir=os.getcwd(), depth=STOCKFISH_DEPTH)\n",
    "worker_proc, worker_in, worker_out = start_ai_worker(OUR_DEPTH)\n",
    "\n",
    "_ensure_csv_header(CSV_PATH)\n",
    "ai_wins = sf_wins = draws = 0\n",
    "total_ai_ms = 0.0\n",
    "total_ai_moves = 0\n",
    "\n",
    "try:\n",
    "    for g in range(NUM_GAMES):\n",
    "        ai_is_white = (g % 2 == 0)\n",
    "        t0 = monotonic()\n",
    "        result, agg = play_one_game(sf, worker_in, worker_out, ai_is_white=ai_is_white)\n",
    "        \n",
    "        if result == \"ai\":\n",
    "            ai_wins += 1\n",
    "        elif result == \"stockfish\":\n",
    "            sf_wins += 1\n",
    "        else:\n",
    "            draws += 1\n",
    "        print(f\"Game {g+1}/{NUM_GAMES}: {result} ({'AI as White' if ai_is_white else 'AI as Black'})\")\n",
    "        print(\"Stats:\", _format_agg(agg))\n",
    "\n",
    "        nodes = agg[\"nodes\"]\n",
    "        ms = agg[\"ms\"]\n",
    "        nps = (nodes / (ms / 1000.0)) if ms > 1e-9 else 0.0\n",
    "        ttp = agg[\"tt_probes\"]\n",
    "        tth = agg[\"tt_hits\"]\n",
    "        tt_hit_rate = (100.0 * tth / ttp) if ttp else 0.0\n",
    "        avg_branch = (agg[\"branch_sum\"] / agg[\"branch_samples\"]) if agg[\"branch_samples\"] else 0.0\n",
    "        game_wall_ms = (monotonic() - t0) * 1000.0 \n",
    "        sf_ms = agg.get(\"sf_ms\", 0.0)\n",
    "\n",
    "        _append_csv_row(CSV_PATH, [\n",
    "                g + 1,\n",
    "                \"white\" if ai_is_white else \"black\",\n",
    "                result,\n",
    "                agg[\"plies\"],\n",
    "                STOCKFISH_DEPTH,\n",
    "                OUR_DEPTH,\n",
    "                nodes,\n",
    "                f\"{ms:.1f}\",\n",
    "                f\"{nps:.0f}\",\n",
    "                ttp,\n",
    "                tth,\n",
    "                f\"{tt_hit_rate:.1f}\",\n",
    "                agg[\"tt_stores\"],\n",
    "                agg[\"beta_cutoffs\"],\n",
    "                agg[\"first_move_cutoffs\"],\n",
    "                f\"{avg_branch:.2f}\",\n",
    "                agg[\"killer_uses\"],\n",
    "                agg[\"history_uses\"],\n",
    "                agg[\"ai_moves\"],\n",
    "                f\"{sf_ms:.1f}\",\n",
    "                f\"{game_wall_ms:.1f}\",\n",
    "            ])\n",
    "        # print per-game summary (includes time)\n",
    "        #print(_format_game_line(g, NUM_GAMES, result, ai_is_white, agg))\n",
    "\n",
    "    total = ai_wins + sf_wins + draws\n",
    "    print(\"\\n=== Final tally ===\")\n",
    "    print(f\"AI wins:        {ai_wins}\")\n",
    "    print(f\"Stockfish wins: {sf_wins}\")\n",
    "    print(f\"Draws:          {draws}\")\n",
    "    if total:\n",
    "        score = (ai_wins + 0.5*draws) / total\n",
    "        print(f\"AI score: {100*score:.1f}%\")\n",
    "        print(f\"ΔElo vs SF@depth{STOCKFISH_DEPTH}: {elo_diff_from_score(score):+.0f}\")\n",
    "\n",
    "    if LOG_TO_CSV:\n",
    "        print(f\"\\nCSV saved to: {os.path.abspath(CSV_PATH)}\")\n",
    "finally:\n",
    "    stop_ai_worker(worker_proc)\n",
    "    sf.quit_engine()"
   ]
  }
 ],
 "metadata": {
  "kernelspec": {
   "display_name": "chess_env",
   "language": "python",
   "name": "python3"
  },
  "language_info": {
   "codemirror_mode": {
    "name": "ipython",
    "version": 3
   },
   "file_extension": ".py",
   "mimetype": "text/x-python",
   "name": "python",
   "nbconvert_exporter": "python",
   "pygments_lexer": "ipython3",
   "version": "3.12.2"
  }
 },
 "nbformat": 4,
 "nbformat_minor": 5
}
