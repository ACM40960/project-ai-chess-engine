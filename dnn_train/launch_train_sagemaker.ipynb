{
 "cells": [
  {
   "cell_type": "code",
   "execution_count": 1,
   "id": "4b316983",
   "metadata": {
    "execution": {
     "iopub.execute_input": "2025-08-12T03:27:37.681009Z",
     "iopub.status.busy": "2025-08-12T03:27:37.680635Z",
     "iopub.status.idle": "2025-08-12T03:27:40.160512Z",
     "shell.execute_reply": "2025-08-12T03:27:40.158778Z",
     "shell.execute_reply.started": "2025-08-12T03:27:37.680982Z"
    }
   },
   "outputs": [
    {
     "name": "stdout",
     "output_type": "stream",
     "text": [
      "sagemaker.config INFO - Not applying SDK defaults from location: /etc/xdg/sagemaker/config.yaml\n",
      "sagemaker.config INFO - Not applying SDK defaults from location: /home/sagemaker-user/.config/sagemaker/config.yaml\n"
     ]
    }
   ],
   "source": [
    "import sagemaker\n",
    "from sagemaker import get_execution_role\n",
    "from sagemaker.tensorflow import TensorFlow"
   ]
  },
  {
   "cell_type": "code",
   "execution_count": null,
   "id": "59eb8b32",
   "metadata": {
    "execution": {
     "iopub.execute_input": "2025-08-12T03:27:40.163158Z",
     "iopub.status.busy": "2025-08-12T03:27:40.162556Z",
     "iopub.status.idle": "2025-08-12T03:27:40.333679Z",
     "shell.execute_reply": "2025-08-12T03:27:40.332789Z",
     "shell.execute_reply.started": "2025-08-12T03:27:40.163129Z"
    }
   },
   "outputs": [
    {
     "name": "stdout",
     "output_type": "stream",
     "text": [
      "Using IAM Role: arn:aws:iam::686821851789:role/service-role/AmazonSageMaker-ExecutionRole-20250709T174464\n",
      "Using S3 Bucket: chess-project-data\n"
     ]
    }
   ],
   "source": [
    "# Sagemaker execution role ARN\n",
    "iam_role_arn = get_execution_role()  \n",
    "\n",
    "# S3 bucket \n",
    "s3_bucket = \"chess-project-data\" "
   ]
  },
  {
   "cell_type": "code",
   "execution_count": null,
   "id": "7898f1b6",
   "metadata": {
    "execution": {
     "iopub.execute_input": "2025-08-12T03:27:41.541423Z",
     "iopub.status.busy": "2025-08-12T03:27:41.540798Z",
     "iopub.status.idle": "2025-08-12T03:27:41.701706Z",
     "shell.execute_reply": "2025-08-12T03:27:41.700997Z",
     "shell.execute_reply.started": "2025-08-12T03:27:41.541393Z"
    }
   },
   "outputs": [
    {
     "name": "stdout",
     "output_type": "stream",
     "text": [
      "SageMaker session created.\n",
      "Model will be saved to: s3://chess-project-data/training-output/\n"
     ]
    }
   ],
   "source": [
    "# Setup session and S3 paths\n",
    "sagemaker_session = sagemaker.session.Session(default_bucket=s3_bucket)\n",
    "\n",
    "# Training model output path\n",
    "s3_output_path = f's3://chess-project-data/training-output/'\n",
    "\n",
    "print(f\"SageMaker session created.\")\n",
    "print(f\"Model will be saved to: {s3_output_path}\")"
   ]
  },
  {
   "cell_type": "code",
   "execution_count": null,
   "id": "b6450853-ee7e-4c8e-bf1d-5a8d0bc8b133",
   "metadata": {
    "execution": {
     "iopub.execute_input": "2025-08-12T03:27:43.349779Z",
     "iopub.status.busy": "2025-08-12T03:27:43.349386Z",
     "iopub.status.idle": "2025-08-12T03:27:43.354090Z",
     "shell.execute_reply": "2025-08-12T03:27:43.353002Z",
     "shell.execute_reply.started": "2025-08-12T03:27:43.349753Z"
    }
   },
   "outputs": [],
   "source": [
    "# Metrics to show up on sagemaker metric logs\n",
    "METRIC_DEFS = [\n",
    "    {\"Name\": \"train_loss\", \"Regex\": r\" - loss:\\s*([0-9]*\\.?[0-9]+)\"},\n",
    "    {\"Name\": \"train_mae\",  \"Regex\": r\" - mae:\\s*([0-9]*\\.?[0-9]+)\"},\n",
    "    {\"Name\": \"val_loss\",   \"Regex\": r\" - val_loss:\\s*([0-9]*\\.?[0-9]+)\"},\n",
    "    {\"Name\": \"val_mae\",    \"Regex\": r\" - val_mae:\\s*([0-9]*\\.?[0-9]+)\"},\n",
    "    # Optional: learning-rate if you print it; included here in case you add it later\n",
    "    {\"Name\": \"lr\",         \"Regex\": r\" - lr:\\s*([0-9]*\\.?[0-9]+)\"},\n",
    "]"
   ]
  },
  {
   "cell_type": "code",
   "execution_count": null,
   "id": "437ac5fd",
   "metadata": {
    "execution": {
     "iopub.execute_input": "2025-08-12T03:43:47.950137Z",
     "iopub.status.busy": "2025-08-12T03:43:47.949754Z",
     "iopub.status.idle": "2025-08-12T03:43:48.296315Z",
     "shell.execute_reply": "2025-08-12T03:43:48.295521Z",
     "shell.execute_reply.started": "2025-08-12T03:43:47.950113Z"
    }
   },
   "outputs": [
    {
     "name": "stdout",
     "output_type": "stream",
     "text": [
      "\n",
      "--- Starting GPU Model Training ---\n",
      "Estimator configured successfully.\n"
     ]
    }
   ],
   "source": [
    "# Define and Run the GPU Training Job\n",
    "print(\"\\n--- Starting GPU Model Training ---\")\n",
    "# Create a SageMaker TensorFlow Estimator\n",
    "estimator = TensorFlow(\n",
    "    entry_point='ai_train.py',              # Your training script\n",
    "    source_dir='./dnn_train',               # The local directory with your train.py\n",
    "    role=iam_role_arn,\n",
    "    instance_count=1,\n",
    "    instance_type='ml.g4dn.2xlarge',       # NVIDIA T4 GPU (16GB) 8vCPU (32GB)\n",
    "    framework_version='2.18',\n",
    "    py_version='py310',\n",
    "    output_path=s3_output_path,\n",
    "    metric_definitions=METRIC_DEFS,\n",
    "    max_run=172800\n",
    ")\n",
    "\n",
    "print(\"Estimator configured successfully.\")"
   ]
  },
  {
   "cell_type": "code",
   "execution_count": null,
   "id": "87cda7f0",
   "metadata": {
    "execution": {
     "iopub.execute_input": "2025-08-12T03:44:00.227008Z",
     "iopub.status.busy": "2025-08-12T03:44:00.226642Z"
    }
   },
   "outputs": [
    {
     "name": "stderr",
     "output_type": "stream",
     "text": [
      "INFO:sagemaker.telemetry.telemetry_logging:SageMaker Python SDK will collect telemetry to help us better understand our user's needs, diagnose issues, and deliver additional features.\n",
      "To opt out of telemetry, please disable via TelemetryOptOut parameter in SDK defaults config. For more information, refer to https://sagemaker.readthedocs.io/en/stable/overview.html#configuring-and-using-defaults-with-the-sagemaker-python-sdk.\n",
      "INFO:sagemaker.image_uris:image_uri is not presented, retrieving image_uri based on instance_type, framework etc.\n",
      "INFO:sagemaker.image_uris:image_uri is not presented, retrieving image_uri based on instance_type, framework etc.\n",
      "INFO:sagemaker:Creating training-job with name: tensorflow-training-2025-08-12-03-44-00-259\n"
     ]
    },
    {
     "name": "stdout",
     "output_type": "stream",
     "text": [
      "Starting training job... \n",
      "2025-08-12 03:44:01 Starting - Starting the training job...\n",
      "2025-08-12 03:44:15 Starting - Preparing the instances for training.."
     ]
    }
   ],
   "source": [
    "# 4. Start the training job on AWS\n",
    "print(f\"Starting training job... \")\n",
    "estimator.fit()\n",
    "\n",
    "print(\"\\n✅ Training job complete!\")\n",
    "print(f\"Model artifacts saved in S3 at: {estimator.model_data}\")"
   ]
  }
 ],
 "metadata": {
  "kernelspec": {
   "display_name": "Python 3 (ipykernel)",
   "language": "python",
   "name": "python3"
  },
  "language_info": {
   "codemirror_mode": {
    "name": "ipython",
    "version": 3
   },
   "file_extension": ".py",
   "mimetype": "text/x-python",
   "name": "python",
   "nbconvert_exporter": "python",
   "pygments_lexer": "ipython3",
   "version": "3.12.9"
  }
 },
 "nbformat": 4,
 "nbformat_minor": 5
}
